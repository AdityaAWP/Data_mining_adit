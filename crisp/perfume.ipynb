{
 "cells": [
  {
   "cell_type": "markdown",
   "metadata": {},
   "source": [
    "Tugas 2 Olah Data Menggunakan Crisp DM"
   ]
  },
  {
   "cell_type": "markdown",
   "metadata": {},
   "source": [
    "Peran Data Mining Yang Saya Gunakan Adalah Clustering, Assosiaction"
   ]
  },
  {
   "cell_type": "code",
   "execution_count": 27,
   "metadata": {},
   "outputs": [],
   "source": [
    "import pandas as pd\n",
    "import ast\n",
    "from sklearn.metrics.pairwise import cosine_similarity\n",
    "from sklearn.feature_extraction.text import CountVectorizer\n"
   ]
  },
  {
   "cell_type": "code",
   "execution_count": 28,
   "metadata": {},
   "outputs": [],
   "source": [
    "file_path = 'perfume_database.xlsx'\n",
    "perfume_data = pd.read_excel(file_path)"
   ]
  },
  {
   "cell_type": "code",
   "execution_count": 29,
   "metadata": {},
   "outputs": [
    {
     "data": {
      "text/html": [
       "<div>\n",
       "<style scoped>\n",
       "    .dataframe tbody tr th:only-of-type {\n",
       "        vertical-align: middle;\n",
       "    }\n",
       "\n",
       "    .dataframe tbody tr th {\n",
       "        vertical-align: top;\n",
       "    }\n",
       "\n",
       "    .dataframe thead th {\n",
       "        text-align: right;\n",
       "    }\n",
       "</style>\n",
       "<table border=\"1\" class=\"dataframe\">\n",
       "  <thead>\n",
       "    <tr style=\"text-align: right;\">\n",
       "      <th></th>\n",
       "      <th>brand</th>\n",
       "      <th>perfume</th>\n",
       "      <th>image</th>\n",
       "      <th>launch_year</th>\n",
       "      <th>main_accords</th>\n",
       "      <th>notes</th>\n",
       "      <th>longevity</th>\n",
       "      <th>sillage</th>\n",
       "    </tr>\n",
       "  </thead>\n",
       "  <tbody>\n",
       "    <tr>\n",
       "      <th>0</th>\n",
       "      <td>18 21 Man Made</td>\n",
       "      <td>Sweet Tobacco Spirits</td>\n",
       "      <td>o.37691.jpg</td>\n",
       "      <td>2016.0</td>\n",
       "      <td>[\"wine\", \"vanilla\", \"sweet\", \"woody\", \"aromatic\"]</td>\n",
       "      <td>[\"Citruses\", \"Saffron\", \"Tonka Bean\", \"Vanilla...</td>\n",
       "      <td>[\"4\", \"0\", \"9\", \"14\", \"31\"]</td>\n",
       "      <td>[\"10\", \"19\", \"28\", \"11\"]</td>\n",
       "    </tr>\n",
       "    <tr>\n",
       "      <th>1</th>\n",
       "      <td>40 Notes Perfume</td>\n",
       "      <td>Cashmere Musk</td>\n",
       "      <td>o.15537.jpg</td>\n",
       "      <td>NaN</td>\n",
       "      <td>[\"woody\", \"musky\", \"balsamic\", \"powdery\", \"war...</td>\n",
       "      <td>[\"Sandalwood\", \"Cedar\", \"White Musk\", \"Cashmer...</td>\n",
       "      <td>[\"1\", \"0\", \"0\", \"1\", \"1\"]</td>\n",
       "      <td>[\"1\", \"3\", \"0\", \"2\"]</td>\n",
       "    </tr>\n",
       "    <tr>\n",
       "      <th>2</th>\n",
       "      <td>40 Notes Perfume</td>\n",
       "      <td>Exotic Ylang Ylang</td>\n",
       "      <td>o.15536.jpg</td>\n",
       "      <td>NaN</td>\n",
       "      <td>[\"yellow floral\", \"white floral\", \"sweet\", \"mu...</td>\n",
       "      <td>[\"Ylang-Ylang\", \"Gardenia\", \"Musk\"]</td>\n",
       "      <td>[\"1\", \"0\", \"0\", \"0\", \"2\"]</td>\n",
       "      <td>[\"0\", \"2\", \"1\", \"2\"]</td>\n",
       "    </tr>\n",
       "    <tr>\n",
       "      <th>3</th>\n",
       "      <td>40 Notes Perfume</td>\n",
       "      <td>Exquisite Amber</td>\n",
       "      <td>o.15538.jpg</td>\n",
       "      <td>NaN</td>\n",
       "      <td>[\"balsamic\", \"vanilla\", \"amber\", \"musky\", \"war...</td>\n",
       "      <td>[\"Labdanum\", \"Styrax\", \"Benzoin\", \"Vanilla\", \"...</td>\n",
       "      <td>[\"0\", \"0\", \"0\", \"0\", \"1\"]</td>\n",
       "      <td>[\"1\", \"0\", \"3\", \"1\"]</td>\n",
       "    </tr>\n",
       "    <tr>\n",
       "      <th>4</th>\n",
       "      <td>40 Notes Perfume</td>\n",
       "      <td>Oudwood Veil</td>\n",
       "      <td>o.15539.jpg</td>\n",
       "      <td>NaN</td>\n",
       "      <td>[\"oud\", \"amber\", \"fresh spicy\", \"balsamic\", \"w...</td>\n",
       "      <td>[\"Kephalis\", \"Agarwood (Oud)\"]</td>\n",
       "      <td>[\"1\", \"1\", \"1\", \"0\", \"6\"]</td>\n",
       "      <td>[\"1\", \"4\", \"0\", \"5\"]</td>\n",
       "    </tr>\n",
       "  </tbody>\n",
       "</table>\n",
       "</div>"
      ],
      "text/plain": [
       "              brand                perfume        image  launch_year  \\\n",
       "0    18 21 Man Made  Sweet Tobacco Spirits  o.37691.jpg       2016.0   \n",
       "1  40 Notes Perfume          Cashmere Musk  o.15537.jpg          NaN   \n",
       "2  40 Notes Perfume     Exotic Ylang Ylang  o.15536.jpg          NaN   \n",
       "3  40 Notes Perfume        Exquisite Amber  o.15538.jpg          NaN   \n",
       "4  40 Notes Perfume           Oudwood Veil  o.15539.jpg          NaN   \n",
       "\n",
       "                                        main_accords  \\\n",
       "0  [\"wine\", \"vanilla\", \"sweet\", \"woody\", \"aromatic\"]   \n",
       "1  [\"woody\", \"musky\", \"balsamic\", \"powdery\", \"war...   \n",
       "2  [\"yellow floral\", \"white floral\", \"sweet\", \"mu...   \n",
       "3  [\"balsamic\", \"vanilla\", \"amber\", \"musky\", \"war...   \n",
       "4  [\"oud\", \"amber\", \"fresh spicy\", \"balsamic\", \"w...   \n",
       "\n",
       "                                               notes  \\\n",
       "0  [\"Citruses\", \"Saffron\", \"Tonka Bean\", \"Vanilla...   \n",
       "1  [\"Sandalwood\", \"Cedar\", \"White Musk\", \"Cashmer...   \n",
       "2                [\"Ylang-Ylang\", \"Gardenia\", \"Musk\"]   \n",
       "3  [\"Labdanum\", \"Styrax\", \"Benzoin\", \"Vanilla\", \"...   \n",
       "4                     [\"Kephalis\", \"Agarwood (Oud)\"]   \n",
       "\n",
       "                     longevity                   sillage  \n",
       "0  [\"4\", \"0\", \"9\", \"14\", \"31\"]  [\"10\", \"19\", \"28\", \"11\"]  \n",
       "1    [\"1\", \"0\", \"0\", \"1\", \"1\"]      [\"1\", \"3\", \"0\", \"2\"]  \n",
       "2    [\"1\", \"0\", \"0\", \"0\", \"2\"]      [\"0\", \"2\", \"1\", \"2\"]  \n",
       "3    [\"0\", \"0\", \"0\", \"0\", \"1\"]      [\"1\", \"0\", \"3\", \"1\"]  \n",
       "4    [\"1\", \"1\", \"1\", \"0\", \"6\"]      [\"1\", \"4\", \"0\", \"5\"]  "
      ]
     },
     "execution_count": 29,
     "metadata": {},
     "output_type": "execute_result"
    }
   ],
   "source": [
    "perfume_data.head()"
   ]
  },
  {
   "cell_type": "code",
   "execution_count": 30,
   "metadata": {},
   "outputs": [],
   "source": [
    "perfume_data['launch_year'] = perfume_data['launch_year'].fillna(0)\n",
    "\n",
    "def safe_literal_eval(val):\n",
    "    try:\n",
    "        return ast.literal_eval(val)\n",
    "    except (ValueError, SyntaxError):\n",
    "        return [] \n"
   ]
  },
  {
   "cell_type": "code",
   "execution_count": 31,
   "metadata": {},
   "outputs": [],
   "source": [
    "perfume_data['main_accords'] = perfume_data['main_accords'].fillna('[]')\n",
    "perfume_data['notes'] = perfume_data['notes'].fillna('[]')\n",
    "\n",
    "perfume_data['main_accords'] = perfume_data['main_accords'].apply(safe_literal_eval)\n",
    "perfume_data['notes'] = perfume_data['notes'].apply(safe_literal_eval)"
   ]
  },
  {
   "cell_type": "code",
   "execution_count": 32,
   "metadata": {},
   "outputs": [],
   "source": [
    "perfume_data['features'] = perfume_data['main_accords'].apply(lambda x: ' '.join(x)) + ' ' + perfume_data['notes'].apply(lambda x: ' '.join(x))"
   ]
  },
  {
   "cell_type": "code",
   "execution_count": 33,
   "metadata": {},
   "outputs": [],
   "source": [
    "def recommend_perfume(user_liked_notes, n_recommendations=5):\n",
    "    user_pref = ' '.join(user_liked_notes)\n",
    "\n",
    "    count_vectorizer = CountVectorizer().fit_transform([user_pref] + perfume_data['features'].tolist())\n",
    "\n",
    "    cosine_sim = cosine_similarity(count_vectorizer[0:1], count_vectorizer[1:]).flatten()\n",
    "\n",
    "    similar_indices = cosine_sim.argsort()[-n_recommendations:][::-1]\n",
    "\n",
    "    recommendations = perfume_data.iloc[similar_indices][['brand', 'perfume', 'main_accords', 'notes']]\n",
    "    \n",
    "    return recommendations, similar_indices\n"
   ]
  },
  {
   "cell_type": "code",
   "execution_count": 34,
   "metadata": {},
   "outputs": [
    {
     "name": "stdout",
     "output_type": "stream",
     "text": [
      "Top recommended perfumes based on your preferences:\n",
      "(                 brand                perfume  \\\n",
      "6228         Leitmotiv  No 12 Figuier Moderne   \n",
      "35684    4160 Tuesdays            Dirty Honey   \n",
      "24960  Roberto Cavalli         Supreme Sandal   \n",
      "5345     I Smell Great             Wild Honey   \n",
      "37728         Fleurage           Wood Vanilla   \n",
      "\n",
      "                                         main_accords  \\\n",
      "6228           [woody, sweet, fruity, vanilla, honey]   \n",
      "35684  [honey, sweet, beeswax, amber, vanilla, woody]   \n",
      "24960    [warm spicy, woody, honey, vanilla, powdery]   \n",
      "5345         [vanilla, honey, sweet, powdery, floral]   \n",
      "37728    [vanilla, woody, powdery, sweet, soft spicy]   \n",
      "\n",
      "                                                   notes  \n",
      "6228    [Fig, Passionfruit, Vanilla, Honey, Woody Notes]  \n",
      "35684  [Honey, Beeswax, Vanilla, Woody Notes, Labdanu...  \n",
      "24960   [Sandalwood, Honey, Saffron, Black Vanilla Husk]  \n",
      "5345                           [Honey, Tahitian Vanilla]  \n",
      "37728                             [Woody Notes, Vanilla]  , array([ 6228, 35684, 24960,  5345, 37728]))\n"
     ]
    }
   ],
   "source": [
    "def test_recommendation_system(user_liked_notes):\n",
    "    recommendations = recommend_perfume(user_liked_notes)\n",
    "    \n",
    "    print(\"Top recommended perfumes based on your preferences:\")\n",
    "    print(recommendations)\n",
    "\n",
    "user_liked_notes = ['Honey', 'Woody', 'Vanilla']  \n",
    "test_recommendation_system(user_liked_notes)"
   ]
  },
  {
   "cell_type": "code",
   "execution_count": 90,
   "metadata": {},
   "outputs": [],
   "source": []
  },
  {
   "cell_type": "code",
   "execution_count": null,
   "metadata": {},
   "outputs": [],
   "source": []
  }
 ],
 "metadata": {
  "kernelspec": {
   "display_name": "base",
   "language": "python",
   "name": "python3"
  },
  "language_info": {
   "codemirror_mode": {
    "name": "ipython",
    "version": 3
   },
   "file_extension": ".py",
   "mimetype": "text/x-python",
   "name": "python",
   "nbconvert_exporter": "python",
   "pygments_lexer": "ipython3",
   "version": "3.12.7"
  }
 },
 "nbformat": 4,
 "nbformat_minor": 2
}
